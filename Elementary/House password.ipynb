{
 "cells": [
  {
   "cell_type": "code",
   "execution_count": null,
   "metadata": {
    "collapsed": true
   },
   "outputs": [],
   "source": [
    "a='A1213pokl'\n",
    "b='bAse730onE'\n",
    "c='asasasasasasasaas'\n",
    "d='QwErTy911poqqqq'"
   ]
  },
  {
   "cell_type": "code",
   "execution_count": null,
   "metadata": {
    "collapsed": false
   },
   "outputs": [],
   "source": [
    "def checkio(data):\n",
    "    l=len(data)\n",
    "    flag = False\n",
    "    up=0\n",
    "    low=0\n",
    "    digi=0\n",
    "    for i in data:\n",
    "        if i.isupper():\n",
    "            up=1\n",
    "        elif i.islower():\n",
    "            low=1\n",
    "        elif i.isdigit():\n",
    "            digi=1\n",
    "    if up==1 and low==1 and digi==1 and l>=10:\n",
    "        flag = True\n",
    "    \n",
    "    return flag"
   ]
  },
  {
   "cell_type": "code",
   "execution_count": null,
   "metadata": {
    "collapsed": false
   },
   "outputs": [],
   "source": [
    "print(a.isupper())\n",
    "print(\"ssss\".isdigit())\n",
    "print(\"A\".isupper())"
   ]
  },
  {
   "cell_type": "code",
   "execution_count": null,
   "metadata": {
    "collapsed": true
   },
   "outputs": [],
   "source": [
    "# 素晴らしい解答\n",
    "def checkio(data):\n",
    "    if data.__len__()<10:\n",
    "        return False\n",
    "    if re.search(\"[a-z]+\", data) and re.search(\"[A-Z]+\", data) and re.search(\"[0-9]+\", data):\n",
    "        return True\n",
    "    return False"
   ]
  }
 ],
 "metadata": {
  "kernelspec": {
   "display_name": "Python 3",
   "language": "python",
   "name": "python3"
  },
  "language_info": {
   "codemirror_mode": {
    "name": "ipython",
    "version": 3
   },
   "file_extension": ".py",
   "mimetype": "text/x-python",
   "name": "python",
   "nbconvert_exporter": "python",
   "pygments_lexer": "ipython3",
   "version": "3.4.3"
  }
 },
 "nbformat": 4,
 "nbformat_minor": 0
}
