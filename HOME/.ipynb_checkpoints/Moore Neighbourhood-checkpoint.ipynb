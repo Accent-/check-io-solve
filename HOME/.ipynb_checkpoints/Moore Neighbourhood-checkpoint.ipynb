{
 "cells": [
  {
   "cell_type": "code",
   "execution_count": 1,
   "metadata": {
    "collapsed": false
   },
   "outputs": [],
   "source": [
    "import types"
   ]
  },
  {
   "cell_type": "code",
   "execution_count": 14,
   "metadata": {
    "collapsed": true
   },
   "outputs": [],
   "source": [
    "def count_neighbours(grid, row, col):\n",
    "    count =0\n",
    "    min_row=-1\n",
    "    min_col=-1\n",
    "    max_row=1\n",
    "    max_col=1\n",
    "\n",
    "    if row==0:\n",
    "        min_row=0\n",
    "    if col==0:\n",
    "        min_col=0\n",
    "    if len(grid)-1==row:\n",
    "        max_row=0\n",
    "    if len(grid[0])-1==col:\n",
    "        max_col=0\n",
    "\n",
    "    for i in range(min_row,max_row+1):\n",
    "        for j in range(min_col,max_col+1):\n",
    "            if grid[row+i][col+j]==1:\n",
    "                count +=1\n",
    "    if grid[row][col]==1:\n",
    "        count -=1\n",
    "    \n",
    "    return count"
   ]
  },
  {
   "cell_type": "code",
   "execution_count": 18,
   "metadata": {
    "collapsed": true
   },
   "outputs": [],
   "source": [
    "grid=        ((1, 0, 0, 1, 0),\n",
    "         (0, 1, 0, 0, 0),\n",
    "         (0, 0, 1, 0, 1),\n",
    "         (1, 0, 0, 0, 0),\n",
    "         (0, 0, 1, 0, 0),)\n",
    "\n",
    "row=1\n",
    "col=3"
   ]
  },
  {
   "cell_type": "code",
   "execution_count": 19,
   "metadata": {
    "collapsed": false
   },
   "outputs": [
    {
     "name": "stdout",
     "output_type": "stream",
     "text": [
      "5\n",
      "5\n"
     ]
    }
   ],
   "source": [
    "#type(a)\n",
    "print(len(grid)) #縦の長さ\n",
    "print(len(grid[0])) #横の長さ"
   ]
  },
  {
   "cell_type": "code",
   "execution_count": 6,
   "metadata": {
    "collapsed": true
   },
   "outputs": [
    {
     "ename": "NameError",
     "evalue": "name 'grid' is not defined",
     "output_type": "error",
     "traceback": [
      "\u001b[1;31m---------------------------------------------------------------------------\u001b[0m",
      "\u001b[1;31mNameError\u001b[0m                                 Traceback (most recent call last)",
      "\u001b[1;32m<ipython-input-6-bc44534bd0f4>\u001b[0m in \u001b[0;36m<module>\u001b[1;34m()\u001b[0m\n\u001b[0;32m      9\u001b[0m \u001b[1;32mif\u001b[0m \u001b[0mcol\u001b[0m\u001b[1;33m==\u001b[0m\u001b[1;36m0\u001b[0m\u001b[1;33m:\u001b[0m\u001b[1;33m\u001b[0m\u001b[0m\n\u001b[0;32m     10\u001b[0m     \u001b[0mmin_col\u001b[0m\u001b[1;33m=\u001b[0m\u001b[1;36m0\u001b[0m\u001b[1;33m\u001b[0m\u001b[0m\n\u001b[1;32m---> 11\u001b[1;33m \u001b[1;32mif\u001b[0m \u001b[0mlen\u001b[0m\u001b[1;33m(\u001b[0m\u001b[0mgrid\u001b[0m\u001b[1;33m)\u001b[0m\u001b[1;33m==\u001b[0m\u001b[0mrow\u001b[0m\u001b[1;33m:\u001b[0m\u001b[1;33m\u001b[0m\u001b[0m\n\u001b[0m\u001b[0;32m     12\u001b[0m     \u001b[0mmax_row\u001b[0m\u001b[1;33m=\u001b[0m\u001b[1;36m0\u001b[0m\u001b[1;33m\u001b[0m\u001b[0m\n\u001b[0;32m     13\u001b[0m \u001b[1;32mif\u001b[0m \u001b[0mlen\u001b[0m\u001b[1;33m(\u001b[0m\u001b[0mgrid\u001b[0m\u001b[1;33m)\u001b[0m\u001b[1;33m==\u001b[0m\u001b[0mcol\u001b[0m\u001b[1;33m:\u001b[0m\u001b[1;33m\u001b[0m\u001b[0m\n",
      "\u001b[1;31mNameError\u001b[0m: name 'grid' is not defined"
     ]
    }
   ],
   "source": [
    "count =0\n",
    "min_row=-1\n",
    "min_col=-1\n",
    "max_row=1\n",
    "max_col=1\n",
    "\n",
    "if row==0:\n",
    "    min_row=0\n",
    "if col==0:\n",
    "    min_col=0\n",
    "if len(grid)-1==row:\n",
    "    max_row=0\n",
    "if len(grid)-1==col:\n",
    "    max_col=0\n",
    "\n",
    "for i in range(min_row,max_row+1):\n",
    "    for j in range(min_col,max_col+1):\n",
    "        if grid[row+i][col+j]==1:\n",
    "            count +=1\n",
    "if grid[row][col]==1:\n",
    "    count -=1\n"
   ]
  },
  {
   "cell_type": "code",
   "execution_count": 20,
   "metadata": {
    "collapsed": false
   },
   "outputs": [
    {
     "data": {
      "text/plain": [
       "3"
      ]
     },
     "execution_count": 20,
     "metadata": {},
     "output_type": "execute_result"
    }
   ],
   "source": [
    "count_neighbours(((1,1,1),(1,1,1),(1,1,1),), 0, 2)"
   ]
  },
  {
   "cell_type": "code",
   "execution_count": 12,
   "metadata": {
    "collapsed": false
   },
   "outputs": [
    {
     "name": "stdout",
     "output_type": "stream",
     "text": [
      "3\n"
     ]
    }
   ],
   "source": [
    "a = ((1,1,1),(1,1,1),(1,1,1))\n",
    "print(len(a))"
   ]
  },
  {
   "cell_type": "code",
   "execution_count": null,
   "metadata": {
    "collapsed": true
   },
   "outputs": [],
   "source": []
  }
 ],
 "metadata": {
  "kernelspec": {
   "display_name": "Python 3",
   "language": "python",
   "name": "python3"
  },
  "language_info": {
   "codemirror_mode": {
    "name": "ipython",
    "version": 3
   },
   "file_extension": ".py",
   "mimetype": "text/x-python",
   "name": "python",
   "nbconvert_exporter": "python",
   "pygments_lexer": "ipython3",
   "version": "3.4.3"
  }
 },
 "nbformat": 4,
 "nbformat_minor": 0
}
